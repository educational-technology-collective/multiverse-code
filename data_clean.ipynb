{
 "cells": [
  {
   "cell_type": "code",
   "execution_count": 89,
   "id": "6427cca6",
   "metadata": {
    "tags": []
   },
   "outputs": [],
   "source": [
    "import numpy as np\n",
    "import pandas as pd\n",
    "import warnings\n",
    "\n",
    "# Suppress specific DeprecationWarning\n",
    "warnings.filterwarnings(\"ignore\", category=DeprecationWarning)\n",
    "%run helper.ipynb"
   ]
  },
  {
   "cell_type": "code",
   "execution_count": 6,
   "id": "a27ad2bf-91d8-4a66-820b-b96f9e26e533",
   "metadata": {
    "tags": []
   },
   "outputs": [],
   "source": [
    "term_info_df = pd.read_csv(r\"/data0/larc/LARC Student_LARC_20230125_STDNT_TERM_INFO.csv\", low_memory=False)\n",
    "student_info_df = pd.read_csv(\"/data0/larc/LARC Student_LARC_20230125_STDNT_INFO.csv\", low_memory=False)\n",
    "# class_info_df = pd.read_csv(\"/data0/larc/LARC Student_LARC_20230125_STDNT_TERM_CLASS_INFO.csv\", low_memory=False)\n",
    "transfer_info_df = pd.read_csv(\"/data0/larc/LARC Student_LARC_20230125_STDNT_TERM_TRNSFR_INFO.csv\", low_memory=False)"
   ]
  },
  {
   "cell_type": "code",
   "execution_count": 7,
   "id": "c488ae9f",
   "metadata": {
    "tags": []
   },
   "outputs": [],
   "source": [
    "# Get First-Year / Transfer Dataframe\n",
    "relevant_student_df = get_student_df(student_info_df, include_transfer=False, include_nan=False, term_cut=\"FA 2022\")\n"
   ]
  },
  {
   "cell_type": "code",
   "execution_count": 62,
   "id": "9f409b0d",
   "metadata": {
    "tags": []
   },
   "outputs": [
    {
     "name": "stdout",
     "output_type": "stream",
     "text": [
      "        FIRST_YR_CUM_GPA\n",
      "0                  2.561\n",
      "1                  3.584\n",
      "2                  3.420\n",
      "3                  2.800\n",
      "4                  3.343\n",
      "...                  ...\n",
      "198569             2.852\n",
      "198570             0.000\n",
      "198571             2.203\n",
      "198572             3.203\n",
      "198573             3.573\n",
      "\n",
      "[198574 rows x 1 columns]\n"
     ]
    }
   ],
   "source": [
    "#term_info_df_test = term_info_df.sort_values(by=['STDNT_ID', 'TERM_SHORT_DES'])\n",
    "add_gpa_df = add_cum_gpa_col(relevant_student_df, term_info_df)\n",
    "print(add_gpa_df[['FIRST_YR_CUM_GPA']])"
   ]
  },
  {
   "cell_type": "code",
   "execution_count": 63,
   "id": "1fd1ca85",
   "metadata": {
    "tags": []
   },
   "outputs": [
    {
     "name": "stdout",
     "output_type": "stream",
     "text": [
      "0         40.0\n",
      "1         26.0\n",
      "2         32.0\n",
      "3         56.0\n",
      "4         32.0\n",
      "          ... \n",
      "198569    36.0\n",
      "198570    34.0\n",
      "198571    27.0\n",
      "198572    29.0\n",
      "198573    31.0\n",
      "Name: FIRST_YR_TAKEN_CREDITS, Length: 198574, dtype: float64\n"
     ]
    }
   ],
   "source": [
    "add_cum_credits_df = add_credits_taken_col(add_gpa_df, term_info_df)\n",
    "print(add_credits_df['FIRST_YR_TAKEN_CREDITS'])"
   ]
  },
  {
   "cell_type": "code",
   "execution_count": 90,
   "id": "94aa9acc-2abe-4dea-bc6e-5fa46f81262d",
   "metadata": {
    "tags": []
   },
   "outputs": [],
   "source": [
    "add_first_gen_df = add_first_gen_col(add_cum_credits_df)\n",
    "\n",
    "add_age_df = add_age_col(add_first_gen_df)\n",
    "\n",
    "add_transfer_credits_df = add_transfer_credits_col(add_age_df, transfer_info_df)\n",
    "\n",
    "add_max_sat_df = add_max_sat_col(add_transfer_credits_df)\n",
    "\n",
    "add_income_df = fill_income_col(add_max_sat_df, 'nan')\n",
    "\n",
    "add_major_df = add_major_col(add_income_df, term_info_df)"
   ]
  },
  {
   "cell_type": "code",
   "execution_count": 92,
   "id": "91d49bae-675f-463e-b68b-e4de1348ae29",
   "metadata": {
    "tags": []
   },
   "outputs": [
    {
     "name": "stdout",
     "output_type": "stream",
     "text": [
      "        STDNT_INTL_IND  STDNT_NTV_ENG_SPKR_IND FIRST_US_PRMNNT_RES_PSTL_5_CD  \\\n",
      "6                    0                       0                         17110   \n",
      "7                    0                       1                         49085   \n",
      "8                    0                       1                         22207   \n",
      "9                    0                       0                         06518   \n",
      "10                   0                       1                         43566   \n",
      "...                ...                     ...                           ...   \n",
      "198560               0                       0                         48323   \n",
      "198562               0                       1                         49103   \n",
      "198564               0                       1                         07090   \n",
      "198571               0                       1                         48631   \n",
      "198572               0                       1                         48197   \n",
      "\n",
      "           PRNT_MAX_ED_LVL_DES FIRST_TERM_ATTND_SHORT_DES  STARTING_AGE  \\\n",
      "6       Professional Doctorate                    FA 2019          18.0   \n",
      "7       Professional Doctorate                    FA 2010          18.0   \n",
      "8                 Some College                    FA 2018          18.0   \n",
      "9            Bachelor's degree                    FA 2012          18.0   \n",
      "10           Bachelor's degree                    FA 2014          19.0   \n",
      "...                        ...                        ...           ...   \n",
      "198560         Master's degree                    FA 2016          18.0   \n",
      "198562               Doctorate                    SU 2021          18.0   \n",
      "198564  Professional Doctorate                    FA 2021          18.0   \n",
      "198571      Associate's degree                    FA 2013          18.0   \n",
      "198572         Master's degree                    FA 2014          19.0   \n",
      "\n",
      "        IS_FIRST_GEN  TRANSFER_CREDITS  MAX_SAT_SCR EST_GROSS_FAM_INC_DES  \\\n",
      "6                0.0               4.0       1420.0     $50,000 - $74,999   \n",
      "7                0.0               3.0       1340.0     $50,000 - $74,999   \n",
      "8                0.0               3.0       1310.0   $100,000 - $149,999   \n",
      "9                0.0               5.0       1370.0   $100,000 - $149,999   \n",
      "10               0.0               4.0       1500.0   $100,000 - $149,999   \n",
      "...              ...               ...          ...                   ...   \n",
      "198560           0.0               4.0       1540.0    More than $200,000   \n",
      "198562           0.0               3.0       1250.0   $150,000 - $199,999   \n",
      "198564           0.0               1.0       1390.0            Don't Know   \n",
      "198571           0.0               4.0       1110.0     $75,000 - $99,999   \n",
      "198572           0.0               4.0       1400.0   $100,000 - $149,999   \n",
      "\n",
      "        FIRST_YR_CUM_GPA  FIRST_YR_TAKEN_CREDITS  HS_GPA  HS_CALC_IND  \\\n",
      "6                  3.748                    31.0    3.90            0   \n",
      "7                  2.829                    36.0    3.76            1   \n",
      "8                  3.376                    30.0    3.70            1   \n",
      "9                  3.468                    16.0    3.80            1   \n",
      "10                 3.525                    31.0    4.00            1   \n",
      "...                  ...                     ...     ...          ...   \n",
      "198560             2.738                    33.0    3.60            1   \n",
      "198562             3.700                     6.0    3.90            1   \n",
      "198564             4.000                    18.0    3.80            1   \n",
      "198571             2.203                    27.0    2.90            0   \n",
      "198572             3.203                    29.0    3.80            1   \n",
      "\n",
      "        HS_CHEM_LAB_IND                              PGM_1_MAJOR_1_CIP_DES  \\\n",
      "6                     0  Liberal Arts and Sciences, General Studies and...   \n",
      "7                     1  Liberal Arts and Sciences, General Studies and...   \n",
      "8                     1  Liberal Arts and Sciences, General Studies and...   \n",
      "9                     1  Liberal Arts and Sciences, General Studies and...   \n",
      "10                    1  Liberal Arts and Sciences, General Studies and...   \n",
      "...                 ...                                                ...   \n",
      "198560                1                               Engineering, General   \n",
      "198562                0        Sport and Fitness Administration/Management   \n",
      "198564                0  Liberal Arts and Sciences, General Studies and...   \n",
      "198571                0            Multi-/Interdisciplinary Studies, Other   \n",
      "198572                0  Liberal Arts and Sciences, General Studies and...   \n",
      "\n",
      "       FIRST_UG_ENTRY_TYP_DES  \n",
      "6                  First-Year  \n",
      "7                  First-Year  \n",
      "8                  First-Year  \n",
      "9                  First-Year  \n",
      "10                 First-Year  \n",
      "...                       ...  \n",
      "198560             First-Year  \n",
      "198562             First-Year  \n",
      "198564             First-Year  \n",
      "198571             First-Year  \n",
      "198572             First-Year  \n",
      "\n",
      "[80155 rows x 17 columns]\n"
     ]
    }
   ],
   "source": [
    "test = add_major_df[['STDNT_INTL_IND', 'STDNT_NTV_ENG_SPKR_IND', 'FIRST_US_PRMNNT_RES_PSTL_5_CD', 'PRNT_MAX_ED_LVL_DES', 'FIRST_TERM_ATTND_SHORT_DES',\n",
    "                      'STARTING_AGE', 'IS_FIRST_GEN', 'TRANSFER_CREDITS', 'MAX_SAT_SCR', 'EST_GROSS_FAM_INC_DES', 'FIRST_YR_CUM_GPA', \n",
    "                      'FIRST_YR_TAKEN_CREDITS', 'HS_GPA', 'HS_CALC_IND', 'HS_CHEM_LAB_IND', 'PGM_1_MAJOR_1_CIP_DES', 'FIRST_UG_ENTRY_TYP_DES']]\n",
    "print(test.dropna())"
   ]
  },
  {
   "cell_type": "code",
   "execution_count": 93,
   "id": "65ea410d",
   "metadata": {
    "tags": []
   },
   "outputs": [
    {
     "ename": "KeyError",
     "evalue": "'STDNT_ID'",
     "output_type": "error",
     "traceback": [
      "\u001b[0;31m---------------------------------------------------------------------------\u001b[0m",
      "\u001b[0;31mKeyError\u001b[0m                                  Traceback (most recent call last)",
      "File \u001b[0;32m/opt/conda/envs/haytham/lib/python3.12/site-packages/pandas/core/indexes/base.py:3805\u001b[0m, in \u001b[0;36mIndex.get_loc\u001b[0;34m(self, key)\u001b[0m\n\u001b[1;32m   3804\u001b[0m \u001b[38;5;28;01mtry\u001b[39;00m:\n\u001b[0;32m-> 3805\u001b[0m     \u001b[38;5;28;01mreturn\u001b[39;00m \u001b[38;5;28mself\u001b[39m\u001b[38;5;241m.\u001b[39m_engine\u001b[38;5;241m.\u001b[39mget_loc(casted_key)\n\u001b[1;32m   3806\u001b[0m \u001b[38;5;28;01mexcept\u001b[39;00m \u001b[38;5;167;01mKeyError\u001b[39;00m \u001b[38;5;28;01mas\u001b[39;00m err:\n",
      "File \u001b[0;32mindex.pyx:167\u001b[0m, in \u001b[0;36mpandas._libs.index.IndexEngine.get_loc\u001b[0;34m()\u001b[0m\n",
      "File \u001b[0;32mindex.pyx:196\u001b[0m, in \u001b[0;36mpandas._libs.index.IndexEngine.get_loc\u001b[0;34m()\u001b[0m\n",
      "File \u001b[0;32mpandas/_libs/hashtable_class_helper.pxi:7081\u001b[0m, in \u001b[0;36mpandas._libs.hashtable.PyObjectHashTable.get_item\u001b[0;34m()\u001b[0m\n",
      "File \u001b[0;32mpandas/_libs/hashtable_class_helper.pxi:7089\u001b[0m, in \u001b[0;36mpandas._libs.hashtable.PyObjectHashTable.get_item\u001b[0;34m()\u001b[0m\n",
      "\u001b[0;31mKeyError\u001b[0m: 'STDNT_ID'",
      "\nThe above exception was the direct cause of the following exception:\n",
      "\u001b[0;31mKeyError\u001b[0m                                  Traceback (most recent call last)",
      "Cell \u001b[0;32mIn[93], line 2\u001b[0m\n\u001b[1;32m      1\u001b[0m test \u001b[38;5;241m=\u001b[39m test\u001b[38;5;241m.\u001b[39mdropna()\n\u001b[0;32m----> 2\u001b[0m target_df \u001b[38;5;241m=\u001b[39m generate_reenroll_target(test, term_info_df)\n\u001b[1;32m      3\u001b[0m \u001b[38;5;28mprint\u001b[39m(target_df)\n",
      "File \u001b[0;32m/tmp/ipykernel_3489878/2666986466.py:30\u001b[0m, in \u001b[0;36mgenerate_reenroll_target\u001b[0;34m(relevant_student_df, term_info_df)\u001b[0m\n\u001b[1;32m     27\u001b[0m term_info_df[\u001b[38;5;124m'\u001b[39m\u001b[38;5;124mCLEANED_TERM_SHORT_DES\u001b[39m\u001b[38;5;124m'\u001b[39m] \u001b[38;5;241m=\u001b[39m term_info_df[\u001b[38;5;124m'\u001b[39m\u001b[38;5;124mTERM_SHORT_DES\u001b[39m\u001b[38;5;124m'\u001b[39m]\u001b[38;5;241m.\u001b[39mstr\u001b[38;5;241m.\u001b[39mextract(\u001b[38;5;124mr\u001b[39m\u001b[38;5;124m'\u001b[39m\u001b[38;5;124m([A-Z]\u001b[39m\u001b[38;5;132;01m{2}\u001b[39;00m\u001b[38;5;124m \u001b[39m\u001b[38;5;124m\\\u001b[39m\u001b[38;5;124md\u001b[39m\u001b[38;5;132;01m{4}\u001b[39;00m\u001b[38;5;124m)\u001b[39m\u001b[38;5;124m'\u001b[39m)  \u001b[38;5;66;03m# Extracts format like \"FA 1999\"\u001b[39;00m\n\u001b[1;32m     29\u001b[0m \u001b[38;5;66;03m# Create a composite key to check the existence of the target term in term_info_df\u001b[39;00m\n\u001b[0;32m---> 30\u001b[0m relevant_student_df[\u001b[38;5;124m'\u001b[39m\u001b[38;5;124mstudent_term_key\u001b[39m\u001b[38;5;124m'\u001b[39m] \u001b[38;5;241m=\u001b[39m relevant_student_df[\u001b[38;5;124m'\u001b[39m\u001b[38;5;124mSTDNT_ID\u001b[39m\u001b[38;5;124m'\u001b[39m]\u001b[38;5;241m.\u001b[39mastype(\u001b[38;5;28mstr\u001b[39m) \u001b[38;5;241m+\u001b[39m \u001b[38;5;124m'\u001b[39m\u001b[38;5;124m_\u001b[39m\u001b[38;5;124m'\u001b[39m \u001b[38;5;241m+\u001b[39m relevant_student_df[\u001b[38;5;124m'\u001b[39m\u001b[38;5;124mTarget_Term\u001b[39m\u001b[38;5;124m'\u001b[39m]\n\u001b[1;32m     31\u001b[0m term_info_df[\u001b[38;5;124m'\u001b[39m\u001b[38;5;124mstudent_term_key\u001b[39m\u001b[38;5;124m'\u001b[39m] \u001b[38;5;241m=\u001b[39m term_info_df[\u001b[38;5;124m'\u001b[39m\u001b[38;5;124mSTDNT_ID\u001b[39m\u001b[38;5;124m'\u001b[39m]\u001b[38;5;241m.\u001b[39mastype(\u001b[38;5;28mstr\u001b[39m) \u001b[38;5;241m+\u001b[39m \u001b[38;5;124m'\u001b[39m\u001b[38;5;124m_\u001b[39m\u001b[38;5;124m'\u001b[39m \u001b[38;5;241m+\u001b[39m term_info_df[\u001b[38;5;124m\"\u001b[39m\u001b[38;5;124mCLEANED_TERM_SHORT_DES\u001b[39m\u001b[38;5;124m\"\u001b[39m]\n\u001b[1;32m     33\u001b[0m \u001b[38;5;66;03m# Check if the target term exists for each student\u001b[39;00m\n",
      "File \u001b[0;32m/opt/conda/envs/haytham/lib/python3.12/site-packages/pandas/core/frame.py:4102\u001b[0m, in \u001b[0;36mDataFrame.__getitem__\u001b[0;34m(self, key)\u001b[0m\n\u001b[1;32m   4100\u001b[0m \u001b[38;5;28;01mif\u001b[39;00m \u001b[38;5;28mself\u001b[39m\u001b[38;5;241m.\u001b[39mcolumns\u001b[38;5;241m.\u001b[39mnlevels \u001b[38;5;241m>\u001b[39m \u001b[38;5;241m1\u001b[39m:\n\u001b[1;32m   4101\u001b[0m     \u001b[38;5;28;01mreturn\u001b[39;00m \u001b[38;5;28mself\u001b[39m\u001b[38;5;241m.\u001b[39m_getitem_multilevel(key)\n\u001b[0;32m-> 4102\u001b[0m indexer \u001b[38;5;241m=\u001b[39m \u001b[38;5;28mself\u001b[39m\u001b[38;5;241m.\u001b[39mcolumns\u001b[38;5;241m.\u001b[39mget_loc(key)\n\u001b[1;32m   4103\u001b[0m \u001b[38;5;28;01mif\u001b[39;00m is_integer(indexer):\n\u001b[1;32m   4104\u001b[0m     indexer \u001b[38;5;241m=\u001b[39m [indexer]\n",
      "File \u001b[0;32m/opt/conda/envs/haytham/lib/python3.12/site-packages/pandas/core/indexes/base.py:3812\u001b[0m, in \u001b[0;36mIndex.get_loc\u001b[0;34m(self, key)\u001b[0m\n\u001b[1;32m   3807\u001b[0m     \u001b[38;5;28;01mif\u001b[39;00m \u001b[38;5;28misinstance\u001b[39m(casted_key, \u001b[38;5;28mslice\u001b[39m) \u001b[38;5;129;01mor\u001b[39;00m (\n\u001b[1;32m   3808\u001b[0m         \u001b[38;5;28misinstance\u001b[39m(casted_key, abc\u001b[38;5;241m.\u001b[39mIterable)\n\u001b[1;32m   3809\u001b[0m         \u001b[38;5;129;01mand\u001b[39;00m \u001b[38;5;28many\u001b[39m(\u001b[38;5;28misinstance\u001b[39m(x, \u001b[38;5;28mslice\u001b[39m) \u001b[38;5;28;01mfor\u001b[39;00m x \u001b[38;5;129;01min\u001b[39;00m casted_key)\n\u001b[1;32m   3810\u001b[0m     ):\n\u001b[1;32m   3811\u001b[0m         \u001b[38;5;28;01mraise\u001b[39;00m InvalidIndexError(key)\n\u001b[0;32m-> 3812\u001b[0m     \u001b[38;5;28;01mraise\u001b[39;00m \u001b[38;5;167;01mKeyError\u001b[39;00m(key) \u001b[38;5;28;01mfrom\u001b[39;00m \u001b[38;5;21;01merr\u001b[39;00m\n\u001b[1;32m   3813\u001b[0m \u001b[38;5;28;01mexcept\u001b[39;00m \u001b[38;5;167;01mTypeError\u001b[39;00m:\n\u001b[1;32m   3814\u001b[0m     \u001b[38;5;66;03m# If we have a listlike key, _check_indexing_error will raise\u001b[39;00m\n\u001b[1;32m   3815\u001b[0m     \u001b[38;5;66;03m#  InvalidIndexError. Otherwise we fall through and re-raise\u001b[39;00m\n\u001b[1;32m   3816\u001b[0m     \u001b[38;5;66;03m#  the TypeError.\u001b[39;00m\n\u001b[1;32m   3817\u001b[0m     \u001b[38;5;28mself\u001b[39m\u001b[38;5;241m.\u001b[39m_check_indexing_error(key)\n",
      "\u001b[0;31mKeyError\u001b[0m: 'STDNT_ID'"
     ]
    }
   ],
   "source": [
    "test = test.dropna()\n",
    "target_df = generate_reenroll_target(test, term_info_df)\n",
    "print(target_df)"
   ]
  },
  {
   "cell_type": "code",
   "execution_count": 77,
   "id": "1feac6fe",
   "metadata": {
    "tags": []
   },
   "outputs": [
    {
     "name": "stdout",
     "output_type": "stream",
     "text": [
      "Number of Re-Enroll First-Year:  79040\n",
      "Numer of Not Re-Enroll First-Year:  1120\n"
     ]
    }
   ],
   "source": [
    "sd_id_1 = target_df[target_df == 1]\n",
    "sd_id_0 = target_df[target_df == 0]\n",
    "print(\"Number of Re-Enroll First-Year: \", len(sd_id_1))\n",
    "print(\"Numer of Not Re-Enroll First-Year: \", len(sd_id_0))\n",
    "# match = term_info_df[term_info_df['STDNT_ID'] == 367959]\n",
    "# print(match)"
   ]
  },
  {
   "cell_type": "code",
   "execution_count": 66,
   "id": "85c122d4",
   "metadata": {},
   "outputs": [
    {
     "name": "stdout",
     "output_type": "stream",
     "text": [
      "       EST_GROSS_FAM_INC_DES\n",
      "409374     Less than $25,000\n"
     ]
    }
   ],
   "source": [
    "income_df = fill_income_col(relevant_student_df, 'zip_mode')\n",
    "print(income_df[income_df['STDNT_ID'] == 250287][['EST_GROSS_FAM_INC_DES']])\n"
   ]
  },
  {
   "cell_type": "code",
   "execution_count": 28,
   "id": "64c38c92",
   "metadata": {
    "tags": []
   },
   "outputs": [
    {
     "name": "stdout",
     "output_type": "stream",
     "text": [
      "       FIRST_TERM_ATTND_BEGIN_YR_MO  STDNT_BIRTH_YR\n",
      "346738                      1997/06          1900.0\n"
     ]
    }
   ],
   "source": [
    "add_age_df = add_age_col(relevant_student_df)\n",
    "print(add_age_df[add_age_df['STARTING_AGE'] > 90][['FIRST_TERM_ATTND_BEGIN_YR_MO', 'STDNT_BIRTH_YR']])"
   ]
  },
  {
   "cell_type": "code",
   "execution_count": 36,
   "id": "bdf2f407",
   "metadata": {},
   "outputs": [
    {
     "name": "stdout",
     "output_type": "stream",
     "text": [
      "[   nan  3.     5.     1.     4.     2.     0.     6.     3.34  36.\n",
      "  2.67   1.5    0.67   8.     0.5    2.66   1.33   1.99   3.75   3.66\n",
      "  3.33   1.34   2.33   3.5    5.33   3.3    3.333  3.25   3.6    2.6\n",
      "  0.34  12.    10.     1.67   1.3    9.     4.5  ]\n"
     ]
    }
   ],
   "source": [
    "add_transfer_credits_df = add_transfer_credits_col(relevant_student_df, transfer_info_df)\n",
    "print(add_transfer_credits_df['TRANSFER_CREDITS'].unique())"
   ]
  },
  {
   "cell_type": "code",
   "execution_count": 59,
   "id": "16326b14",
   "metadata": {},
   "outputs": [
    {
     "name": "stdout",
     "output_type": "stream",
     "text": [
      "[1340. 1310. 1270. 1370. 1080.   nan 1400. 1420. 1430. 1500. 1240. 1230.\n",
      " 1250. 1210. 1180. 1220. 1360. 1530. 1460. 1560. 1580. 1320. 1260. 1540.\n",
      " 1410. 1280. 1380. 1490. 1520. 1110. 1590. 1350. 1440. 1450. 1120. 1470.\n",
      " 1300.  930. 1600. 1390. 1550. 1140. 1200. 1040. 1290. 1330. 1510. 1030.\n",
      " 1570. 1190. 1480. 1170. 1150. 1060. 1100. 1000. 1010. 1090.  970. 1160.\n",
      " 1020. 1130.  890. 1050.  800.  980. 1070.  950.  900.  990.  910.  850.\n",
      "  960.  880.    0.  920.  830.  940.  870.  860.  840.  630.  780.  810.\n",
      "  820.  760.  720.  650.  770.  660.  710.  670.  730.  700.  470. 1148.]\n"
     ]
    }
   ],
   "source": [
    "add_max_sat_df = add_max_sat_col(relevant_student_df)\n",
    "print(add_max_sat_df['MAX_SAT_SCR'].unique())"
   ]
  },
  {
   "cell_type": "code",
   "execution_count": null,
   "id": "c892816f-6495-4a11-9389-5d879df58a6e",
   "metadata": {
    "tags": []
   },
   "outputs": [],
   "source": [
    "#student_term_info_df\n",
    "print(term_info_df[term_info_df['PGM_1_MAJOR_1_CIP_DES'].isna()])\n",
    "print(\"####\")\n",
    "\n",
    "# print(term_info_df[term_info_df['TERM_CD'] == 2420])"
   ]
  },
  {
   "cell_type": "code",
   "execution_count": null,
   "id": "600ee17a",
   "metadata": {},
   "outputs": [],
   "source": [
    "print(term_info_df[term_info_df['STDNT_ID'] == 413831][['PGM_1_MAJOR_1_CIP_DES']])"
   ]
  },
  {
   "cell_type": "code",
   "execution_count": null,
   "id": "e5f92a22-2065-4f2b-89a1-56d346d2b6c4",
   "metadata": {
    "tags": []
   },
   "outputs": [],
   "source": [
    "student_info_df"
   ]
  },
  {
   "cell_type": "code",
   "execution_count": null,
   "id": "4c7579f0",
   "metadata": {},
   "outputs": [],
   "source": [
    "print(len(student_info_df[(student_info_df['FIRST_UG_ENTRY_TYP_DES'] == 'First-Year') | (student_info_df['FIRST_UG_ENTRY_TYP_DES'] == 'First-Year Assumed')]))"
   ]
  },
  {
   "cell_type": "code",
   "execution_count": null,
   "id": "0e6699df-bbb9-4d2b-a763-e20ecfd90c7d",
   "metadata": {
    "tags": []
   },
   "outputs": [],
   "source": [
    "class_info_df"
   ]
  },
  {
   "cell_type": "code",
   "execution_count": null,
   "id": "d8f5e77c-1998-433f-a2c1-234db1999d38",
   "metadata": {
    "tags": []
   },
   "outputs": [],
   "source": [
    "transfer_info_df"
   ]
  }
 ],
 "metadata": {
  "kernelspec": {
   "display_name": "modules",
   "language": "python",
   "name": "haytham"
  },
  "language_info": {
   "codemirror_mode": {
    "name": "ipython",
    "version": 3
   },
   "file_extension": ".py",
   "mimetype": "text/x-python",
   "name": "python",
   "nbconvert_exporter": "python",
   "pygments_lexer": "ipython3",
   "version": "3.12.3"
  }
 },
 "nbformat": 4,
 "nbformat_minor": 5
}
